{
 "cells": [
  {
   "cell_type": "markdown",
   "metadata": {},
   "source": [
    "## Numerical simulations of ideal chain model of polymer using PYTHON"
   ]
  },
  {
   "cell_type": "markdown",
   "metadata": {},
   "source": [
    "### PYTHON LIBRARIES"
   ]
  },
  {
   "cell_type": "code",
   "execution_count": 2,
   "metadata": {},
   "outputs": [],
   "source": [
    "import numpy as np\n",
    "import math"
   ]
  },
  {
   "cell_type": "markdown",
   "metadata": {},
   "source": [
    "### FJC PARAMETERS"
   ]
  },
  {
   "cell_type": "code",
   "execution_count": 3,
   "metadata": {},
   "outputs": [],
   "source": [
    "n= [10,50,100,250,500,750,1000]\n",
    "b=3.0\n",
    "T=5000"
   ]
  },
  {
   "cell_type": "markdown",
   "metadata": {},
   "source": [
    "### SIMULATION"
   ]
  },
  {
   "cell_type": "code",
   "execution_count": 4,
   "metadata": {},
   "outputs": [],
   "source": [
    "for N in n:\n",
    "    \n",
    "    # OPEN TRAJECTORY FILE\n",
    "    filename='trajectory_polymer_b=%.1f_N=%d_T=%d.xyz'%(b,N,T)\n",
    "    f=open(filename,'w')\n",
    "\n",
    "    #OPEN Q TIME SERIES FILE\n",
    "    filename='end-to-end_distance_b=%.1f_N=%d_T=%d.dat'%(b,N,T)\n",
    "    f2 = open(filename,'w')\n",
    "\n",
    "    #OPEN Rg TIME SERIES FILE\n",
    "    filename='gyration_radius_b=%.1f_N=%d_T=%d.dat'%(b,N,T)\n",
    "    f3 = open(filename,'w')\n",
    "\n",
    "    Q_T = np.zeros(T)\n",
    "    R_g = np.zeros(T)\n",
    "\n",
    "    for t in range(T):\n",
    "        \n",
    "        # INITIALIZE\n",
    "        vR=np.zeros([N+1,3])\n",
    "        vb=np.zeros([N,3])\n",
    "\n",
    "        # MONOMER 0\n",
    "        i=0\n",
    "        vR[i,:]=np.array([0.0,0.0,0.0])\n",
    "\n",
    "        # MONOMER 1\n",
    "        i=1\n",
    "        vb[i-1,:]=np.array([b,0.0,0.0])\n",
    "        vR[i,:]=vR[i-1,:]+vb[i-1,:]\n",
    "\n",
    "        # MONOMER 2\n",
    "        i=2\n",
    "        u=np.random.uniform(-1.0,1.0)\n",
    "        tau=math.atan2(math.sqrt(1-u*u),u)\n",
    "        vN=np.array([0.0,0.0,1.0]); vN=vN/np.linalg.norm(vN)\n",
    "        vU=vb[0,:]\n",
    "        vV=math.cos(math.pi-tau)*vU+math.sin(math.pi-tau)*np.cross(vN,vU)+(1-math.cos(math.pi-tau))*np.dot(vU,vN)*vN\n",
    "        vb[i-1,:]=vV\n",
    "        vR[i,:]=vR[i-1,:]+vb[i-1,:]\n",
    "\n",
    "        # MONOMER > 2\n",
    "        for i in range(3,N+1):\n",
    "            u=np.random.uniform(-1.0,1.0)\n",
    "            tau=math.atan2(math.sqrt(1-u*u),u)\n",
    "            vN=np.cross(vb[i-3,:],vb[i-2,:]); vN=vN/np.linalg.norm(vN)\n",
    "            vU=vb[i-2,:]\n",
    "            vV=math.cos(math.pi-tau)*vU+math.sin(math.pi-tau)*np.cross(vN,vU)+(1-math.cos(math.pi-tau))*np.dot(vU,vN)*vN\n",
    "\n",
    "            u=np.random.uniform(-1.0,1.0); v=np.random.uniform(-1.0,1.0)\n",
    "            phi=math.atan2(v,u)\n",
    "            vN=vb[i-2,:]; vN=vN/np.linalg.norm(vN)\n",
    "            vU=vV\n",
    "            vV=math.cos(phi)*vU+math.sin(phi)*np.cross(vN,vU)+(1-math.cos(phi))*np.dot(vU,vN)*vN\n",
    "            vb[i-1,:]=vV\n",
    "            vR[i,:]=vR[i-1,:]+vb[i-1,:]\n",
    "    \n",
    "        # CENTER OF MASS\n",
    "        Rcm=np.mean(vR,axis=0)\n",
    "        vR=vR-Rcm\n",
    "    \n",
    "        Q_T[t] = np.linalg.norm(vR[-1,:] - vR[0,:])\n",
    "        R_g[t] = math.sqrt(np.mean(np.linalg.norm(vR,axis=1)**2))\n",
    "   \n",
    "        # OUTPUT XYZ TRAJECTORY     \n",
    "        f.write('%d\\n'%(N+1))\n",
    "        f.write('T=%d\\n'%t)\n",
    "        for n in range(N+1):\n",
    "            f.write('%s %f %f %f\\n'%('C',vR[n,0],vR[n,1],vR[n,2]))\n",
    "        #OUTPUT Q TIME SERIES \n",
    "        f2.write('%d %f\\n'%(t,Q_T[t]))\n",
    "    \n",
    "        #OUTPUT R_g TIME SERIES\n",
    "        f3.write('%d %f\\n'%(t,R_g[t]))\n",
    "    # CLOSE TRAJECTORY FILE\n",
    "    f.close()\n",
    "    f2.close()\n",
    "    f3.close()"
   ]
  },
  {
   "cell_type": "markdown",
   "metadata": {},
   "source": [
    "### METRICS"
   ]
  },
  {
   "cell_type": "markdown",
   "metadata": {},
   "source": [
    "\\begin{equation}\n",
    "    Q=\\left\\lVert \\vec{R}_N-\\vec{R}_0 \\right\\rVert\n",
    "\\end{equation}\n",
    "\n",
    "\\begin{equation}\n",
    "    R_g=\\sqrt{\\dfrac{1}{N+1}\\sum_{i=0}^{N}\\left\\lVert\\vec{R}_i-\\vec{R}_{cm}\\right\\lVert^2}\n",
    "\\end{equation}"
   ]
  }
 ],
 "metadata": {
  "kernelspec": {
   "display_name": "Python 3",
   "language": "python",
   "name": "python3"
  },
  "language_info": {
   "codemirror_mode": {
    "name": "ipython",
    "version": 3
   },
   "file_extension": ".py",
   "mimetype": "text/x-python",
   "name": "python",
   "nbconvert_exporter": "python",
   "pygments_lexer": "ipython3",
   "version": "3.7.6"
  }
 },
 "nbformat": 4,
 "nbformat_minor": 4
}
